{
 "cells": [
  {
   "cell_type": "markdown",
   "id": "a1ea2ad6",
   "metadata": {},
   "source": [
    "Instead of using ESPN at all, since it gives roughly the same information, I'll build a new web scraper for\n",
    "https://www.cbssports.com/nfl/teams/BUF/buffalo-bills/roster/\n",
    "which should decrease the number of issues. I'll be working with just one website.\n",
    "- Build webscraper (dynamic based on the page)\n",
    "- Rookie mode\n",
    "- all numbers should be float\n",
    "- export to csv\n",
    "- combine all csv's by position\n",
    "- add ppr fantasy score\n",
    "- scrape every offensive player\n",
    "- bonus: scrape all the immutables + age from ESPN and merge to existing datasets"
   ]
  },
  {
   "cell_type": "code",
   "execution_count": null,
   "id": "c0bad213",
   "metadata": {},
   "outputs": [],
   "source": []
  }
 ],
 "metadata": {
  "kernelspec": {
   "display_name": "Python 3 (ipykernel)",
   "language": "python",
   "name": "python3"
  },
  "language_info": {
   "codemirror_mode": {
    "name": "ipython",
    "version": 3
   },
   "file_extension": ".py",
   "mimetype": "text/x-python",
   "name": "python",
   "nbconvert_exporter": "python",
   "pygments_lexer": "ipython3",
   "version": "3.9.12"
  }
 },
 "nbformat": 4,
 "nbformat_minor": 5
}
